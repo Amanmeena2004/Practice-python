{
 "cells": [
  {
   "cell_type": "code",
   "execution_count": 1,
   "id": "1e8ea3fd-f526-41a8-bd52-cf06ad3789a1",
   "metadata": {},
   "outputs": [
    {
     "name": "stdout",
     "output_type": "stream",
     "text": [
      "Requirement already satisfied: cryptography in /home/admindipr108/anaconda3/lib/python3.12/site-packages (42.0.5)\n",
      "Requirement already satisfied: cffi>=1.12 in /home/admindipr108/anaconda3/lib/python3.12/site-packages (from cryptography) (1.16.0)\n",
      "Requirement already satisfied: pycparser in /home/admindipr108/anaconda3/lib/python3.12/site-packages (from cffi>=1.12->cryptography) (2.21)\n",
      "Note: you may need to restart the kernel to use updated packages.\n"
     ]
    }
   ],
   "source": [
    "pip install cryptography"
   ]
  },
  {
   "cell_type": "code",
   "execution_count": 2,
   "id": "73310c55-1945-4354-9a0d-dc720192d9e1",
   "metadata": {},
   "outputs": [],
   "source": [
    "from cryptography.fernet import Fernet"
   ]
  },
  {
   "cell_type": "code",
   "execution_count": 3,
   "id": "5d112155-e6f3-409a-acd1-ea3a0cbb0837",
   "metadata": {},
   "outputs": [
    {
     "name": "stdin",
     "output_type": "stream",
     "text": [
      "what is the master pssword h\n"
     ]
    }
   ],
   "source": [
    "pwd = input(\"what is the master pssword\")"
   ]
  },
  {
   "cell_type": "code",
   "execution_count": 4,
   "id": "7f4b24c9-902a-4ca0-bdcf-103f1ca44b16",
   "metadata": {},
   "outputs": [],
   "source": [
    "# def write_key():\n",
    "#     key = Fernet.generate_key()\n",
    "#     with open(\"key.key\",\"wb\") as key_file:\n",
    "#         key_file.write(key)\n",
    "\n",
    "# write_key()"
   ]
  },
  {
   "cell_type": "code",
   "execution_count": 5,
   "id": "c7162a42-b01d-44c1-ade7-29880e24f108",
   "metadata": {},
   "outputs": [],
   "source": [
    "def load_key():\n",
    "    file = open(\"key.key\", \"rb\")\n",
    "    key = file.read()\n",
    "    file.close()\n",
    "    return key\n"
   ]
  },
  {
   "cell_type": "code",
   "execution_count": 6,
   "id": "e864c3df-da78-4fdc-88b3-9850c2dc3e46",
   "metadata": {},
   "outputs": [],
   "source": [
    "key = load_key()\n",
    "fer = Fernet(key)"
   ]
  },
  {
   "cell_type": "code",
   "execution_count": 7,
   "id": "9366d967-becc-4829-9382-d47dc803aa46",
   "metadata": {},
   "outputs": [],
   "source": [
    "def view():\n",
    "    with open('passwords.txt', 'r') as f:\n",
    "        for line in f.readlines():\n",
    "            data = line.rstrip()\n",
    "            user, passw = data.split(\"|\")\n",
    "            print(\"User:\", user, \"| Password:\",\n",
    "                  fer.decrypt(passw.encode()).decode())"
   ]
  },
  {
   "cell_type": "code",
   "execution_count": 8,
   "id": "906365f6-a11f-439e-9540-de07ba0cc58f",
   "metadata": {},
   "outputs": [],
   "source": [
    "def add():\n",
    "    name = input('Account Name: ')\n",
    "    pwd = input(\"Password: \")\n",
    "\n",
    "    with open('passwords.txt', 'a') as f:\n",
    "        f.write(name + \"|\" + fer.encrypt(pwd.encode()).decode() + \"\\n\")\n",
    "              "
   ]
  },
  {
   "cell_type": "code",
   "execution_count": null,
   "id": "6ff36707-4f9a-4520-8872-2ae9a12c4290",
   "metadata": {},
   "outputs": [
    {
     "name": "stdin",
     "output_type": "stream",
     "text": [
      "Would you like to add a new password or view existing ones (view, add), press q to quit?  view\n"
     ]
    },
    {
     "name": "stdout",
     "output_type": "stream",
     "text": [
      "User: facebook | Password: amanius \n"
     ]
    }
   ],
   "source": [
    "while True:\n",
    "    mode = input(\n",
    "        \"Would you like to add a new password or view existing ones (view, add), press q to quit? \").lower()\n",
    "    if mode == \"q\":\n",
    "        break\n",
    "\n",
    "    if mode == \"view\":\n",
    "        view()\n",
    "    elif mode == \"add\":\n",
    "        add()\n",
    "    else:\n",
    "        print(\"Invalid mode.\")\n",
    "        continue"
   ]
  },
  {
   "cell_type": "code",
   "execution_count": null,
   "id": "bd3aac5d-33b6-478e-90d5-b0d9ac2951b7",
   "metadata": {},
   "outputs": [],
   "source": []
  },
  {
   "cell_type": "code",
   "execution_count": null,
   "id": "709cc4b8-dd95-4b33-8785-66833d9ac0cd",
   "metadata": {},
   "outputs": [],
   "source": [
    "\n",
    "    "
   ]
  }
 ],
 "metadata": {
  "kernelspec": {
   "display_name": "Python 3 (ipykernel)",
   "language": "python",
   "name": "python3"
  },
  "language_info": {
   "codemirror_mode": {
    "name": "ipython",
    "version": 3
   },
   "file_extension": ".py",
   "mimetype": "text/x-python",
   "name": "python",
   "nbconvert_exporter": "python",
   "pygments_lexer": "ipython3",
   "version": "3.12.4"
  }
 },
 "nbformat": 4,
 "nbformat_minor": 5
}
