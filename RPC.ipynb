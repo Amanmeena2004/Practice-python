{
 "cells": [
  {
   "cell_type": "code",
   "execution_count": 1,
   "id": "16e7d197-32c6-4860-b1d7-03aa67d6db76",
   "metadata": {},
   "outputs": [],
   "source": [
    "import random "
   ]
  },
  {
   "cell_type": "code",
   "execution_count": 2,
   "id": "e122f85b-3ff0-482b-81cb-867ac92d42d1",
   "metadata": {},
   "outputs": [],
   "source": [
    "user_wins = 0\n",
    "computer_wins = 0\n",
    "options = [\"rock\",\"paper\",\"scissors\"]"
   ]
  },
  {
   "cell_type": "code",
   "execution_count": 3,
   "id": "62b9c692-5e03-44b5-9686-9a4c8e512158",
   "metadata": {},
   "outputs": [
    {
     "name": "stdin",
     "output_type": "stream",
     "text": [
      "Type Rock/Paper/Scissors or Q to quit:  ROCK\\\n",
      "Type Rock/Paper/Scissors or Q to quit:  ROCK\n"
     ]
    },
    {
     "name": "stdout",
     "output_type": "stream",
     "text": [
      "Computer picked scissors.\n",
      "You won!\n"
     ]
    },
    {
     "name": "stdin",
     "output_type": "stream",
     "text": [
      "Type Rock/Paper/Scissors or Q to quit:  PAPER\n"
     ]
    },
    {
     "name": "stdout",
     "output_type": "stream",
     "text": [
      "Computer picked rock.\n",
      "You won!\n"
     ]
    },
    {
     "name": "stdin",
     "output_type": "stream",
     "text": [
      "Type Rock/Paper/Scissors or Q to quit:  Q\n"
     ]
    }
   ],
   "source": [
    "while True:\n",
    "    user_input = input(\"Type Rock/Paper/Scissors or Q to quit: \").lower()\n",
    "    if user_input == \"q\":\n",
    "        break\n",
    "\n",
    "    if user_input not in options:\n",
    "        continue\n",
    "\n",
    "    random_number = random.randint(0, 2)\n",
    "    # rock: 0, paper: 1, scissors: 2\n",
    "    computer_pick = options[random_number]\n",
    "    print(\"Computer picked\", computer_pick + \".\")\n",
    "\n",
    "    if user_input == \"rock\" and computer_pick == \"scissors\":\n",
    "        print(\"You won!\")\n",
    "        user_wins += 1\n",
    "\n",
    "    elif user_input == \"paper\" and computer_pick == \"rock\":\n",
    "        print(\"You won!\")\n",
    "        user_wins += 1\n",
    "\n",
    "    elif user_input == \"scissors\" and computer_pick == \"paper\":\n",
    "        print(\"You won!\")\n",
    "        user_wins += 1\n",
    "\n",
    "    else:\n",
    "        print(\"You lost!\")\n",
    "        computer_wins += 1\n"
   ]
  },
  {
   "cell_type": "code",
   "execution_count": 5,
   "id": "926b72ce-99f8-4c99-a297-aafb67b902c9",
   "metadata": {},
   "outputs": [
    {
     "name": "stdout",
     "output_type": "stream",
     "text": [
      "You won 2 times.\n",
      "You won 0 times.\n"
     ]
    }
   ],
   "source": [
    "print(\"You won\", user_wins, \"times.\")\n",
    "print(\"You won\", computer_wins, \"times.\")"
   ]
  },
  {
   "cell_type": "code",
   "execution_count": 6,
   "id": "90254506-8bb8-4f5d-abdf-df05881d8f07",
   "metadata": {},
   "outputs": [
    {
     "name": "stdout",
     "output_type": "stream",
     "text": [
      "Goodbye!\n"
     ]
    }
   ],
   "source": [
    "print(\"Goodbye!\")"
   ]
  },
  {
   "cell_type": "code",
   "execution_count": null,
   "id": "84a49882-a6cb-465c-8609-51e62ded6d8c",
   "metadata": {},
   "outputs": [],
   "source": []
  }
 ],
 "metadata": {
  "kernelspec": {
   "display_name": "Python 3 (ipykernel)",
   "language": "python",
   "name": "python3"
  },
  "language_info": {
   "codemirror_mode": {
    "name": "ipython",
    "version": 3
   },
   "file_extension": ".py",
   "mimetype": "text/x-python",
   "name": "python",
   "nbconvert_exporter": "python",
   "pygments_lexer": "ipython3",
   "version": "3.12.4"
  }
 },
 "nbformat": 4,
 "nbformat_minor": 5
}
