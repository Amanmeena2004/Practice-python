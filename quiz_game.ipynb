{
 "cells": [
  {
   "cell_type": "code",
   "execution_count": null,
   "id": "6719f3d4-31f5-4b65-bfa7-d26163feb3d5",
   "metadata": {},
   "outputs": [
    {
     "name": "stdout",
     "output_type": "stream",
     "text": [
      "Welcome to my computer Quiz!\n"
     ]
    }
   ],
   "source": [
    "print(\"Welcome to my computer Quiz!\")\n",
    "playing = input(\"Do you want to play?\")"
   ]
  },
  {
   "cell_type": "code",
   "execution_count": null,
   "id": "f2e25d70-ba77-4ebd-ae12-b45fb069bbfd",
   "metadata": {},
   "outputs": [],
   "source": [
    "if playing.lower() != \"yes\":\n",
    "    quit()"
   ]
  },
  {
   "cell_type": "code",
   "execution_count": null,
   "id": "111514ce-fd45-4e46-af59-ecc35f356e49",
   "metadata": {},
   "outputs": [],
   "source": [
    "print(\"Okay! Let's play :)\")"
   ]
  },
  {
   "cell_type": "code",
   "execution_count": null,
   "id": "1ba48848-bb43-4fe6-8ed1-9626707b7927",
   "metadata": {},
   "outputs": [],
   "source": [
    "score  = 0\n",
    "answer = input(\"What does CPU stand for?\").lower()\n",
    "if answer == \"Central processing unit\":\n",
    "    print('correct!')\n",
    "    score += 1\n",
    "else:\n",
    "    print(\"Incorrect!\")\n",
    "    \n",
    "answer = input(\"What is DP dull form?\").lower()\n",
    "if answer == \"Dynamic programming\":\n",
    "    print('correct!')\n",
    "    score += 1\n",
    "else:\n",
    "    print(\"Incorrect!\")\n",
    "\n",
    "answer = input(\"What is DBMS\").lower()\n",
    "if answer == \"Database management system\":\n",
    "    print('correct!')\n",
    "    score += 1\n",
    "else:\n",
    "    print(\"Incorrect!\")\n",
    "\n",
    "answer = input(\"What is the full form of DRDO?\").lower()\n",
    "if answer == \"Defence Research and Development Organisation\":\n",
    "    print('correct!')\n",
    "    score += 1\n",
    "else:\n",
    "    print(\"Incorrect!\")"
   ]
  },
  {
   "cell_type": "code",
   "execution_count": null,
   "id": "2efb9805-f1d2-4f2c-8c10-823d3a0c9220",
   "metadata": {},
   "outputs": [],
   "source": [
    "print(\"you got \" + str(score) + \"questions Correct!\")\n",
    "print(\"you got\" + str((score/4)*100) + \"%\")"
   ]
  }
 ],
 "metadata": {
  "kernelspec": {
   "display_name": "Python 3 (ipykernel)",
   "language": "python",
   "name": "python3"
  },
  "language_info": {
   "codemirror_mode": {
    "name": "ipython",
    "version": 3
   },
   "file_extension": ".py",
   "mimetype": "text/x-python",
   "name": "python",
   "nbconvert_exporter": "python",
   "pygments_lexer": "ipython3",
   "version": "3.12.4"
  }
 },
 "nbformat": 4,
 "nbformat_minor": 5
}
