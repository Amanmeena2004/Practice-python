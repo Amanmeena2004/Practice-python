{
 "cells": [
  {
   "cell_type": "code",
   "execution_count": 1,
   "id": "cc9f004c-7a94-430f-901c-f52a8c3deaeb",
   "metadata": {},
   "outputs": [
    {
     "name": "stdin",
     "output_type": "stream",
     "text": [
      "Type Your name:  aaamaa\n"
     ]
    },
    {
     "name": "stdout",
     "output_type": "stream",
     "text": [
      "Welcome aaamaa to this adventure!\n"
     ]
    },
    {
     "name": "stdin",
     "output_type": "stream",
     "text": [
      "You are on a dirty road, it has come to an end and you can go left or right. which way you would like go? right\n"
     ]
    }
   ],
   "source": [
    "name = input (\"Type Your name: \")\n",
    "print(\"Welcome\",name, \"to this adventure!\")\n",
    "\n",
    "answer = input(\"You are on a dirty road, it has come to an end and you can go left or right. which way you would like go?\").lower()"
   ]
  },
  {
   "cell_type": "code",
   "execution_count": 2,
   "id": "41df7e84-8648-48b3-945d-f7f276c0be20",
   "metadata": {},
   "outputs": [
    {
     "name": "stdin",
     "output_type": "stream",
     "text": [
      "You come to a bridge, it looks wobbly, do you want to cross it or head back (cross/back)?  cross\n",
      "You cross the bridge and meet a stranger. Do you talk to them (yes/no)?  yes\n"
     ]
    },
    {
     "name": "stdout",
     "output_type": "stream",
     "text": [
      "You talk to the stanger and they give you gold. You WIN!\n"
     ]
    }
   ],
   "source": [
    "if answer == \"left\":\n",
    "    answer = input(\n",
    "        \"You come to a river, you can walk around it or swim accross? Type walk to walk around and swim to swim accross: \")\n",
    "\n",
    "    if answer == \"swim\":\n",
    "        print(\"You swam acrross and were eaten by an alligator.\")\n",
    "    elif answer == \"walk\":\n",
    "        print(\"You walked for many miles, ran out of water and you lost the game.\")\n",
    "    else:\n",
    "        print('Not a valid option. You lose.')\n",
    "\n",
    "elif answer == \"right\":\n",
    "    answer = input(\n",
    "        \"You come to a bridge, it looks wobbly, do you want to cross it or head back (cross/back)? \")\n",
    "\n",
    "    if answer == \"back\":\n",
    "        print(\"You go back and lose.\")\n",
    "    elif answer == \"cross\":\n",
    "        answer = input(\n",
    "            \"You cross the bridge and meet a stranger. Do you talk to them (yes/no)? \")\n",
    "\n",
    "        if answer == \"yes\":\n",
    "            print(\"You talk to the stanger and they give you gold. You WIN!\")\n",
    "        elif answer == \"no\":\n",
    "            print(\"You ignore the stranger and they are offended and you lose.\")\n",
    "        else:\n",
    "            print('Not a valid option. You lose.')\n",
    "    else:\n",
    "        print('Not a valid option. You lose.')\n",
    "\n",
    "else:\n",
    "    print('Not a valid option. You lose.')\n"
   ]
  },
  {
   "cell_type": "code",
   "execution_count": null,
   "id": "676103e6-86d5-4ae3-83d6-0927ae75b931",
   "metadata": {},
   "outputs": [],
   "source": []
  }
 ],
 "metadata": {
  "kernelspec": {
   "display_name": "Python 3 (ipykernel)",
   "language": "python",
   "name": "python3"
  },
  "language_info": {
   "codemirror_mode": {
    "name": "ipython",
    "version": 3
   },
   "file_extension": ".py",
   "mimetype": "text/x-python",
   "name": "python",
   "nbconvert_exporter": "python",
   "pygments_lexer": "ipython3",
   "version": "3.12.4"
  }
 },
 "nbformat": 4,
 "nbformat_minor": 5
}
